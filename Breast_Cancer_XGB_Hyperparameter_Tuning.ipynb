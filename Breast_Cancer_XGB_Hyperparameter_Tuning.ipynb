{
  "nbformat": 4,
  "nbformat_minor": 0,
  "metadata": {
    "colab": {
      "name": "Breast Cancer XGB Hyperparameter Tuning.ipynb",
      "provenance": []
    },
    "kernelspec": {
      "name": "python3",
      "display_name": "Python 3"
    }
  },
  "cells": [
    {
      "cell_type": "code",
      "metadata": {
        "id": "ZvaYsHxJPccj"
      },
      "source": [
        "import pandas as pd\n",
        "import numpy as np\n",
        "import gc\n",
        "import warnings\n",
        "warnings.filterwarnings(\"ignore\")"
      ],
      "execution_count": null,
      "outputs": []
    },
    {
      "cell_type": "code",
      "metadata": {
        "id": "tNwgny_5QBIg"
      },
      "source": [
        "X = pd.read_csv(\"/content/Preprocessed_X_data.csv\").drop(\"Unnamed: 0\",axis=1)\n",
        "y = pd.read_csv(\"/content/Preprocessed_y_data.csv\").drop(\"Unnamed: 0\",axis=1)\n",
        "feature_name = X.columns.tolist()"
      ],
      "execution_count": null,
      "outputs": []
    },
    {
      "cell_type": "code",
      "metadata": {
        "id": "XiiTtFYaQYhu"
      },
      "source": [
        "selected_features = pd.read_csv(\"/content/Selected_Features_Breast_Cancer.csv\").drop(\"Unnamed: 0\",axis=1)"
      ],
      "execution_count": null,
      "outputs": []
    },
    {
      "cell_type": "code",
      "metadata": {
        "colab": {
          "base_uri": "https://localhost:8080/",
          "height": 979
        },
        "id": "FdvSwF0AQfqC",
        "outputId": "261936f9-1867-43ce-e4da-3b2e9840489c"
      },
      "source": [
        "selected_features"
      ],
      "execution_count": null,
      "outputs": [
        {
          "output_type": "execute_result",
          "data": {
            "text/html": [
              "<div>\n",
              "<style scoped>\n",
              "    .dataframe tbody tr th:only-of-type {\n",
              "        vertical-align: middle;\n",
              "    }\n",
              "\n",
              "    .dataframe tbody tr th {\n",
              "        vertical-align: top;\n",
              "    }\n",
              "\n",
              "    .dataframe thead th {\n",
              "        text-align: right;\n",
              "    }\n",
              "</style>\n",
              "<table border=\"1\" class=\"dataframe\">\n",
              "  <thead>\n",
              "    <tr style=\"text-align: right;\">\n",
              "      <th></th>\n",
              "      <th>Feature</th>\n",
              "      <th>Pearson</th>\n",
              "      <th>Chi-2</th>\n",
              "      <th>RFE</th>\n",
              "      <th>Logistics</th>\n",
              "      <th>Random Forest</th>\n",
              "      <th>LightGBM</th>\n",
              "      <th>Total</th>\n",
              "    </tr>\n",
              "  </thead>\n",
              "  <tbody>\n",
              "    <tr>\n",
              "      <th>0</th>\n",
              "      <td>texture_worst</td>\n",
              "      <td>True</td>\n",
              "      <td>True</td>\n",
              "      <td>True</td>\n",
              "      <td>True</td>\n",
              "      <td>True</td>\n",
              "      <td>True</td>\n",
              "      <td>6</td>\n",
              "    </tr>\n",
              "    <tr>\n",
              "      <th>1</th>\n",
              "      <td>texture_mean</td>\n",
              "      <td>True</td>\n",
              "      <td>True</td>\n",
              "      <td>True</td>\n",
              "      <td>True</td>\n",
              "      <td>True</td>\n",
              "      <td>True</td>\n",
              "      <td>6</td>\n",
              "    </tr>\n",
              "    <tr>\n",
              "      <th>2</th>\n",
              "      <td>radius_worst</td>\n",
              "      <td>True</td>\n",
              "      <td>True</td>\n",
              "      <td>True</td>\n",
              "      <td>True</td>\n",
              "      <td>True</td>\n",
              "      <td>True</td>\n",
              "      <td>6</td>\n",
              "    </tr>\n",
              "    <tr>\n",
              "      <th>3</th>\n",
              "      <td>perimeter_worst</td>\n",
              "      <td>True</td>\n",
              "      <td>True</td>\n",
              "      <td>True</td>\n",
              "      <td>True</td>\n",
              "      <td>True</td>\n",
              "      <td>True</td>\n",
              "      <td>6</td>\n",
              "    </tr>\n",
              "    <tr>\n",
              "      <th>4</th>\n",
              "      <td>perimeter_mean</td>\n",
              "      <td>True</td>\n",
              "      <td>True</td>\n",
              "      <td>True</td>\n",
              "      <td>True</td>\n",
              "      <td>True</td>\n",
              "      <td>True</td>\n",
              "      <td>6</td>\n",
              "    </tr>\n",
              "    <tr>\n",
              "      <th>5</th>\n",
              "      <td>concavity_mean</td>\n",
              "      <td>True</td>\n",
              "      <td>True</td>\n",
              "      <td>True</td>\n",
              "      <td>True</td>\n",
              "      <td>True</td>\n",
              "      <td>True</td>\n",
              "      <td>6</td>\n",
              "    </tr>\n",
              "    <tr>\n",
              "      <th>6</th>\n",
              "      <td>concave points_worst</td>\n",
              "      <td>True</td>\n",
              "      <td>True</td>\n",
              "      <td>True</td>\n",
              "      <td>True</td>\n",
              "      <td>True</td>\n",
              "      <td>True</td>\n",
              "      <td>6</td>\n",
              "    </tr>\n",
              "    <tr>\n",
              "      <th>7</th>\n",
              "      <td>concave points_mean</td>\n",
              "      <td>True</td>\n",
              "      <td>True</td>\n",
              "      <td>True</td>\n",
              "      <td>True</td>\n",
              "      <td>True</td>\n",
              "      <td>True</td>\n",
              "      <td>6</td>\n",
              "    </tr>\n",
              "    <tr>\n",
              "      <th>8</th>\n",
              "      <td>radius_mean</td>\n",
              "      <td>True</td>\n",
              "      <td>True</td>\n",
              "      <td>True</td>\n",
              "      <td>True</td>\n",
              "      <td>True</td>\n",
              "      <td>False</td>\n",
              "      <td>5</td>\n",
              "    </tr>\n",
              "    <tr>\n",
              "      <th>9</th>\n",
              "      <td>concavity_worst</td>\n",
              "      <td>True</td>\n",
              "      <td>True</td>\n",
              "      <td>True</td>\n",
              "      <td>False</td>\n",
              "      <td>True</td>\n",
              "      <td>True</td>\n",
              "      <td>5</td>\n",
              "    </tr>\n",
              "    <tr>\n",
              "      <th>10</th>\n",
              "      <td>compactness_worst</td>\n",
              "      <td>True</td>\n",
              "      <td>True</td>\n",
              "      <td>True</td>\n",
              "      <td>False</td>\n",
              "      <td>True</td>\n",
              "      <td>True</td>\n",
              "      <td>5</td>\n",
              "    </tr>\n",
              "    <tr>\n",
              "      <th>11</th>\n",
              "      <td>area_worst</td>\n",
              "      <td>True</td>\n",
              "      <td>True</td>\n",
              "      <td>True</td>\n",
              "      <td>False</td>\n",
              "      <td>True</td>\n",
              "      <td>True</td>\n",
              "      <td>5</td>\n",
              "    </tr>\n",
              "    <tr>\n",
              "      <th>12</th>\n",
              "      <td>area_se</td>\n",
              "      <td>True</td>\n",
              "      <td>True</td>\n",
              "      <td>True</td>\n",
              "      <td>False</td>\n",
              "      <td>True</td>\n",
              "      <td>True</td>\n",
              "      <td>5</td>\n",
              "    </tr>\n",
              "    <tr>\n",
              "      <th>13</th>\n",
              "      <td>smoothness_worst</td>\n",
              "      <td>True</td>\n",
              "      <td>True</td>\n",
              "      <td>True</td>\n",
              "      <td>True</td>\n",
              "      <td>False</td>\n",
              "      <td>False</td>\n",
              "      <td>4</td>\n",
              "    </tr>\n",
              "    <tr>\n",
              "      <th>14</th>\n",
              "      <td>compactness_mean</td>\n",
              "      <td>True</td>\n",
              "      <td>True</td>\n",
              "      <td>True</td>\n",
              "      <td>False</td>\n",
              "      <td>False</td>\n",
              "      <td>True</td>\n",
              "      <td>4</td>\n",
              "    </tr>\n",
              "    <tr>\n",
              "      <th>15</th>\n",
              "      <td>area_mean</td>\n",
              "      <td>True</td>\n",
              "      <td>True</td>\n",
              "      <td>True</td>\n",
              "      <td>False</td>\n",
              "      <td>False</td>\n",
              "      <td>True</td>\n",
              "      <td>4</td>\n",
              "    </tr>\n",
              "    <tr>\n",
              "      <th>16</th>\n",
              "      <td>texture_se</td>\n",
              "      <td>True</td>\n",
              "      <td>True</td>\n",
              "      <td>True</td>\n",
              "      <td>False</td>\n",
              "      <td>False</td>\n",
              "      <td>False</td>\n",
              "      <td>3</td>\n",
              "    </tr>\n",
              "    <tr>\n",
              "      <th>17</th>\n",
              "      <td>symmetry_worst</td>\n",
              "      <td>True</td>\n",
              "      <td>True</td>\n",
              "      <td>True</td>\n",
              "      <td>False</td>\n",
              "      <td>False</td>\n",
              "      <td>False</td>\n",
              "      <td>3</td>\n",
              "    </tr>\n",
              "    <tr>\n",
              "      <th>18</th>\n",
              "      <td>symmetry_se</td>\n",
              "      <td>True</td>\n",
              "      <td>True</td>\n",
              "      <td>True</td>\n",
              "      <td>False</td>\n",
              "      <td>False</td>\n",
              "      <td>False</td>\n",
              "      <td>3</td>\n",
              "    </tr>\n",
              "    <tr>\n",
              "      <th>19</th>\n",
              "      <td>symmetry_mean</td>\n",
              "      <td>True</td>\n",
              "      <td>True</td>\n",
              "      <td>True</td>\n",
              "      <td>False</td>\n",
              "      <td>False</td>\n",
              "      <td>False</td>\n",
              "      <td>3</td>\n",
              "    </tr>\n",
              "    <tr>\n",
              "      <th>20</th>\n",
              "      <td>smoothness_se</td>\n",
              "      <td>True</td>\n",
              "      <td>True</td>\n",
              "      <td>True</td>\n",
              "      <td>False</td>\n",
              "      <td>False</td>\n",
              "      <td>False</td>\n",
              "      <td>3</td>\n",
              "    </tr>\n",
              "    <tr>\n",
              "      <th>21</th>\n",
              "      <td>smoothness_mean</td>\n",
              "      <td>True</td>\n",
              "      <td>True</td>\n",
              "      <td>True</td>\n",
              "      <td>False</td>\n",
              "      <td>False</td>\n",
              "      <td>False</td>\n",
              "      <td>3</td>\n",
              "    </tr>\n",
              "    <tr>\n",
              "      <th>22</th>\n",
              "      <td>radius_se</td>\n",
              "      <td>True</td>\n",
              "      <td>True</td>\n",
              "      <td>True</td>\n",
              "      <td>False</td>\n",
              "      <td>False</td>\n",
              "      <td>False</td>\n",
              "      <td>3</td>\n",
              "    </tr>\n",
              "    <tr>\n",
              "      <th>23</th>\n",
              "      <td>perimeter_se</td>\n",
              "      <td>True</td>\n",
              "      <td>True</td>\n",
              "      <td>True</td>\n",
              "      <td>False</td>\n",
              "      <td>False</td>\n",
              "      <td>False</td>\n",
              "      <td>3</td>\n",
              "    </tr>\n",
              "    <tr>\n",
              "      <th>24</th>\n",
              "      <td>fractal_dimension_worst</td>\n",
              "      <td>True</td>\n",
              "      <td>True</td>\n",
              "      <td>True</td>\n",
              "      <td>False</td>\n",
              "      <td>False</td>\n",
              "      <td>False</td>\n",
              "      <td>3</td>\n",
              "    </tr>\n",
              "    <tr>\n",
              "      <th>25</th>\n",
              "      <td>fractal_dimension_se</td>\n",
              "      <td>True</td>\n",
              "      <td>True</td>\n",
              "      <td>True</td>\n",
              "      <td>False</td>\n",
              "      <td>False</td>\n",
              "      <td>False</td>\n",
              "      <td>3</td>\n",
              "    </tr>\n",
              "    <tr>\n",
              "      <th>26</th>\n",
              "      <td>fractal_dimension_mean</td>\n",
              "      <td>True</td>\n",
              "      <td>True</td>\n",
              "      <td>True</td>\n",
              "      <td>False</td>\n",
              "      <td>False</td>\n",
              "      <td>False</td>\n",
              "      <td>3</td>\n",
              "    </tr>\n",
              "    <tr>\n",
              "      <th>27</th>\n",
              "      <td>concavity_se</td>\n",
              "      <td>True</td>\n",
              "      <td>True</td>\n",
              "      <td>True</td>\n",
              "      <td>False</td>\n",
              "      <td>False</td>\n",
              "      <td>False</td>\n",
              "      <td>3</td>\n",
              "    </tr>\n",
              "    <tr>\n",
              "      <th>28</th>\n",
              "      <td>concave points_se</td>\n",
              "      <td>True</td>\n",
              "      <td>True</td>\n",
              "      <td>True</td>\n",
              "      <td>False</td>\n",
              "      <td>False</td>\n",
              "      <td>False</td>\n",
              "      <td>3</td>\n",
              "    </tr>\n",
              "    <tr>\n",
              "      <th>29</th>\n",
              "      <td>compactness_se</td>\n",
              "      <td>True</td>\n",
              "      <td>True</td>\n",
              "      <td>True</td>\n",
              "      <td>False</td>\n",
              "      <td>False</td>\n",
              "      <td>False</td>\n",
              "      <td>3</td>\n",
              "    </tr>\n",
              "  </tbody>\n",
              "</table>\n",
              "</div>"
            ],
            "text/plain": [
              "                    Feature  Pearson  Chi-2  ...  Random Forest  LightGBM  Total\n",
              "0             texture_worst     True   True  ...           True      True      6\n",
              "1              texture_mean     True   True  ...           True      True      6\n",
              "2              radius_worst     True   True  ...           True      True      6\n",
              "3           perimeter_worst     True   True  ...           True      True      6\n",
              "4            perimeter_mean     True   True  ...           True      True      6\n",
              "5            concavity_mean     True   True  ...           True      True      6\n",
              "6      concave points_worst     True   True  ...           True      True      6\n",
              "7       concave points_mean     True   True  ...           True      True      6\n",
              "8               radius_mean     True   True  ...           True     False      5\n",
              "9           concavity_worst     True   True  ...           True      True      5\n",
              "10        compactness_worst     True   True  ...           True      True      5\n",
              "11               area_worst     True   True  ...           True      True      5\n",
              "12                  area_se     True   True  ...           True      True      5\n",
              "13         smoothness_worst     True   True  ...          False     False      4\n",
              "14         compactness_mean     True   True  ...          False      True      4\n",
              "15                area_mean     True   True  ...          False      True      4\n",
              "16               texture_se     True   True  ...          False     False      3\n",
              "17           symmetry_worst     True   True  ...          False     False      3\n",
              "18              symmetry_se     True   True  ...          False     False      3\n",
              "19            symmetry_mean     True   True  ...          False     False      3\n",
              "20            smoothness_se     True   True  ...          False     False      3\n",
              "21          smoothness_mean     True   True  ...          False     False      3\n",
              "22                radius_se     True   True  ...          False     False      3\n",
              "23             perimeter_se     True   True  ...          False     False      3\n",
              "24  fractal_dimension_worst     True   True  ...          False     False      3\n",
              "25     fractal_dimension_se     True   True  ...          False     False      3\n",
              "26   fractal_dimension_mean     True   True  ...          False     False      3\n",
              "27             concavity_se     True   True  ...          False     False      3\n",
              "28        concave points_se     True   True  ...          False     False      3\n",
              "29           compactness_se     True   True  ...          False     False      3\n",
              "\n",
              "[30 rows x 8 columns]"
            ]
          },
          "metadata": {
            "tags": []
          },
          "execution_count": 4
        }
      ]
    },
    {
      "cell_type": "code",
      "metadata": {
        "id": "HsjrrQC9an2S"
      },
      "source": [
        "y=y['diagnosis']"
      ],
      "execution_count": null,
      "outputs": []
    },
    {
      "cell_type": "code",
      "metadata": {
        "colab": {
          "base_uri": "https://localhost:8080/"
        },
        "id": "hAnbJXE9a_P6",
        "outputId": "eadca771-9171-451d-c21e-799e05d01e1a"
      },
      "source": [
        "from hpsklearn import HyperoptEstimator\n",
        "from hpsklearn import any_classifier\n",
        "from hpsklearn import any_preprocessing\n",
        "from hyperopt import tpe"
      ],
      "execution_count": null,
      "outputs": [
        {
          "output_type": "stream",
          "text": [
            "WARN: OMP_NUM_THREADS=None =>\n",
            "... If you are using openblas if you are using openblas set OMP_NUM_THREADS=1 or risk subprocess calls hanging indefinitely\n"
          ],
          "name": "stdout"
        }
      ]
    },
    {
      "cell_type": "code",
      "metadata": {
        "colab": {
          "base_uri": "https://localhost:8080/"
        },
        "id": "RK3OXSDGcl0h",
        "outputId": "e78db40f-4c2b-4227-9733-99ea2e15d330"
      },
      "source": [
        "X.values"
      ],
      "execution_count": null,
      "outputs": [
        {
          "output_type": "execute_result",
          "data": {
            "text/plain": [
              "array([[0.52103744, 0.0226581 , 0.54598853, ..., 0.91202749, 0.59846245,\n",
              "        0.41886396],\n",
              "       [0.64314449, 0.27257355, 0.61578329, ..., 0.63917526, 0.23358959,\n",
              "        0.22287813],\n",
              "       [0.60149557, 0.3902604 , 0.59574321, ..., 0.83505155, 0.40370589,\n",
              "        0.21343303],\n",
              "       ...,\n",
              "       [0.32517272, 0.43579614, 0.34447014, ..., 0.69331042, 0.3605019 ,\n",
              "        0.48959748],\n",
              "       [0.41282336, 0.35540163, 0.43525458, ..., 0.74033367, 0.52559164,\n",
              "        0.34833193],\n",
              "       [0.39424283, 0.29649177, 0.41067021, ..., 0.76992605, 0.34854103,\n",
              "        0.43310644]])"
            ]
          },
          "metadata": {
            "tags": []
          },
          "execution_count": 7
        }
      ]
    },
    {
      "cell_type": "code",
      "metadata": {
        "colab": {
          "base_uri": "https://localhost:8080/"
        },
        "id": "uifdOW5Rctom",
        "outputId": "d296083e-5174-44b4-ed7d-035eb74b40e2"
      },
      "source": [
        "y"
      ],
      "execution_count": null,
      "outputs": [
        {
          "output_type": "execute_result",
          "data": {
            "text/plain": [
              "0      1\n",
              "1      1\n",
              "2      1\n",
              "3      1\n",
              "4      1\n",
              "      ..\n",
              "710    1\n",
              "711    1\n",
              "712    1\n",
              "713    1\n",
              "714    1\n",
              "Name: diagnosis, Length: 715, dtype: int64"
            ]
          },
          "metadata": {
            "tags": []
          },
          "execution_count": 8
        }
      ]
    },
    {
      "cell_type": "code",
      "metadata": {
        "id": "JkTKGTq8b0kF"
      },
      "source": [
        "from sklearn.model_selection import train_test_split\n",
        "X_train, X_test, y_train, y_test = train_test_split(X.values, y.values, test_size=0.2, random_state=1)"
      ],
      "execution_count": null,
      "outputs": []
    },
    {
      "cell_type": "code",
      "metadata": {
        "colab": {
          "base_uri": "https://localhost:8080/"
        },
        "id": "bT2TrUOzcWbZ",
        "outputId": "c725d556-5de0-4811-8f23-3c4d277d5e00"
      },
      "source": [
        "X_train.shape"
      ],
      "execution_count": null,
      "outputs": [
        {
          "output_type": "execute_result",
          "data": {
            "text/plain": [
              "(572, 30)"
            ]
          },
          "metadata": {
            "tags": []
          },
          "execution_count": 11
        }
      ]
    },
    {
      "cell_type": "code",
      "metadata": {
        "colab": {
          "base_uri": "https://localhost:8080/"
        },
        "id": "pgMTCG0EcZCw",
        "outputId": "520e1849-31dd-47a3-b60e-7d1aed975fe9"
      },
      "source": [
        "y_train.shape"
      ],
      "execution_count": null,
      "outputs": [
        {
          "output_type": "execute_result",
          "data": {
            "text/plain": [
              "(572,)"
            ]
          },
          "metadata": {
            "tags": []
          },
          "execution_count": 12
        }
      ]
    },
    {
      "cell_type": "code",
      "metadata": {
        "id": "AyFjKfC9dvVY"
      },
      "source": [
        "!pip install git+https://github.com/hyperopt/hyperopt-sklearn.git"
      ],
      "execution_count": null,
      "outputs": []
    },
    {
      "cell_type": "code",
      "metadata": {
        "id": "drZ9l95mfVPt"
      },
      "source": [
        "import xgboost as xgb"
      ],
      "execution_count": null,
      "outputs": []
    },
    {
      "cell_type": "code",
      "metadata": {
        "id": "AhlG4THAfgQu"
      },
      "source": [
        "from hpsklearn import HyperoptEstimator, svc\n",
        "from sklearn import svm\n",
        "from hyperopt import Trials, STATUS_OK, tpe, hp, fmin\n",
        "import xgboost as xgb"
      ],
      "execution_count": null,
      "outputs": []
    },
    {
      "cell_type": "code",
      "metadata": {
        "id": "_2bOtBc7evW9"
      },
      "source": [
        "def objective(space):\n",
        "\n",
        "    warnings.filterwarnings(action='ignore', category=DeprecationWarning)\n",
        "    classifier = xgb.XGBClassifier(n_estimators = space['n_estimators'],\n",
        "                            max_depth = int(space['max_depth']),\n",
        "                            learning_rate = space['learning_rate'],\n",
        "                            gamma = space['gamma'],\n",
        "                            min_child_weight = space['min_child_weight'],\n",
        "                            subsample = space['subsample'],\n",
        "                            colsample_bytree = space['colsample_bytree']\n",
        "                            )\n",
        "    \n",
        "    classifier.fit(X.values, y.values)\n",
        "\n",
        "    # Applying k-Fold Cross Validation\n",
        "    from sklearn.model_selection import cross_val_score\n",
        "    accuracies = cross_val_score(estimator = classifier, X = X.values, y = y.values, cv = 10)\n",
        "    CrossValMean = accuracies.mean()\n",
        "\n",
        "    print(\"CrossValMean:\", CrossValMean)\n",
        "\n",
        "    return{'loss':1-CrossValMean, 'status': STATUS_OK }"
      ],
      "execution_count": null,
      "outputs": []
    },
    {
      "cell_type": "code",
      "metadata": {
        "id": "i49mTq5KgcL4"
      },
      "source": [
        "space = {\n",
        "    'max_depth' : hp.choice('max_depth', range(5, 30, 1)),\n",
        "    'learning_rate' : hp.quniform('learning_rate', 0.01, 0.5, 0.01),\n",
        "    'n_estimators' : hp.choice('n_estimators', range(20, 205, 5)),\n",
        "    'gamma' : hp.quniform('gamma', 0, 0.50, 0.01),\n",
        "    'min_child_weight' : hp.quniform('min_child_weight', 1, 10, 1),\n",
        "    'subsample' : hp.quniform('subsample', 0.1, 1, 0.01),\n",
        "    'colsample_bytree' : hp.quniform('colsample_bytree', 0.1, 1.0, 0.01)}"
      ],
      "execution_count": null,
      "outputs": []
    },
    {
      "cell_type": "code",
      "metadata": {
        "colab": {
          "base_uri": "https://localhost:8080/"
        },
        "id": "ITRDwQj4giGq",
        "outputId": "1e24cac2-5b8a-41d6-edf0-e7837c416c7c"
      },
      "source": [
        "trials = Trials()\n",
        "best = fmin(fn=objective,\n",
        "            space=space,\n",
        "            algo=tpe.suggest,\n",
        "            max_evals=50,\n",
        "            trials=trials)"
      ],
      "execution_count": null,
      "outputs": [
        {
          "output_type": "stream",
          "text": [
            "CrossValMean:\n",
            "0.9552230046948356\n",
            "CrossValMean:\n",
            "0.9635758998435054\n",
            "CrossValMean:\n",
            "0.9299882629107981\n",
            "CrossValMean:\n",
            "0.9636150234741784\n",
            "CrossValMean:\n",
            "0.9523865414710484\n",
            "CrossValMean:\n",
            "0.9580203442879499\n",
            "CrossValMean:\n",
            "0.9440140845070422\n",
            "CrossValMean:\n",
            "0.9650234741784038\n",
            "CrossValMean:\n",
            "0.9538145539906104\n",
            "CrossValMean:\n",
            "0.9664319248826292\n",
            "CrossValMean:\n",
            "0.9692488262910798\n",
            "CrossValMean:\n",
            "0.962206572769953\n",
            "CrossValMean:\n",
            "0.9608372456964007\n",
            "CrossValMean:\n",
            "0.9705790297339594\n",
            "CrossValMean:\n",
            "0.9734154929577464\n",
            "CrossValMean:\n",
            "0.9509976525821596\n",
            "CrossValMean:\n",
            "0.9748043818466353\n",
            "CrossValMean:\n",
            "0.960817683881064\n",
            "CrossValMean:\n",
            "0.941255868544601\n",
            "CrossValMean:\n",
            "0.9748435054773082\n",
            "CrossValMean:\n",
            "0.9705985915492958\n",
            "CrossValMean:\n",
            "0.946830985915493\n",
            "CrossValMean:\n",
            "0.9720266040688574\n",
            "CrossValMean:\n",
            "0.9734154929577464\n",
            "CrossValMean:\n",
            "0.9565923317683882\n",
            "CrossValMean:\n",
            "0.9580594679186228\n",
            "CrossValMean:\n",
            "0.974823943661972\n",
            "CrossValMean:\n",
            "0.9692292644757433\n",
            "CrossValMean:\n",
            "0.9467527386541471\n",
            "CrossValMean:\n",
            "0.9678208137715181\n",
            "CrossValMean:\n",
            "0.9622652582159625\n",
            "CrossValMean:\n",
            "0.9538341158059467\n",
            "CrossValMean:\n",
            "0.9664710485133021\n",
            "CrossValMean:\n",
            "0.9538145539906104\n",
            "CrossValMean:\n",
            "0.9454029733959312\n",
            "CrossValMean:\n",
            "0.9636345852895148\n",
            "CrossValMean:\n",
            "0.9636345852895147\n",
            "CrossValMean:\n",
            "0.9635954616588421\n",
            "CrossValMean:\n",
            "0.9593896713615024\n",
            "CrossValMean:\n",
            "0.9762128325508609\n",
            "CrossValMean:\n",
            "0.9594483568075118\n",
            "CrossValMean:\n",
            "0.9566314553990611\n",
            "CrossValMean:\n",
            "0.9776408450704224\n",
            "CrossValMean:\n",
            "0.960817683881064\n",
            "CrossValMean:\n",
            "0.9524452269170581\n",
            "CrossValMean:\n",
            "0.9692879499217527\n",
            "CrossValMean:\n",
            "0.9748043818466353\n",
            "CrossValMean:\n",
            "0.9720266040688574\n",
            "CrossValMean:\n",
            "0.9705790297339594\n",
            "CrossValMean:\n",
            "0.9538341158059469\n",
            "100%|██████████| 50/50 [00:40<00:00,  1.22it/s, best loss: 0.02235915492957763]\n"
          ],
          "name": "stdout"
        }
      ]
    },
    {
      "cell_type": "code",
      "metadata": {
        "colab": {
          "base_uri": "https://localhost:8080/"
        },
        "id": "P5U68nP_gkhH",
        "outputId": "62fae365-54e3-4a85-a956-b93d8167e318"
      },
      "source": [
        "print(\"Best: \", best)\n"
      ],
      "execution_count": null,
      "outputs": [
        {
          "output_type": "stream",
          "text": [
            "Best:  {'colsample_bytree': 0.86, 'gamma': 0.08, 'learning_rate': 0.38, 'max_depth': 22, 'min_child_weight': 1.0, 'n_estimators': 8, 'subsample': 0.8300000000000001}\n"
          ],
          "name": "stdout"
        }
      ]
    },
    {
      "cell_type": "code",
      "metadata": {
        "colab": {
          "base_uri": "https://localhost:8080/"
        },
        "id": "CtkRrsTpg0vh",
        "outputId": "813633a6-b0c1-4f3f-cfc9-32c9df8a7561"
      },
      "source": [
        "from xgboost import XGBClassifier\n",
        "classifier = XGBClassifier(n_estimators = best['n_estimators'],\n",
        "                            max_depth = best['max_depth'],\n",
        "                            learning_rate = best['learning_rate'],\n",
        "                            gamma = best['gamma'],\n",
        "                            min_child_weight = best['min_child_weight'],\n",
        "                            subsample = best['subsample'],\n",
        "                            colsample_bytree = best['colsample_bytree']\n",
        "                            )\n",
        "\n",
        "classifier.fit(X.values, y.values)\n",
        "\n",
        "# Applying k-Fold Cross Validation\n",
        "from sklearn.model_selection import cross_val_score\n",
        "accuracies = cross_val_score(estimator = classifier, X = X.values, y = y.values, cv = 10)\n",
        "CrossValMean = accuracies.mean()\n",
        "print(\"Final CrossValMean: \", CrossValMean)"
      ],
      "execution_count": null,
      "outputs": [
        {
          "output_type": "stream",
          "text": [
            "Final CrossValMean:  0.9621870109546167\n"
          ],
          "name": "stdout"
        }
      ]
    },
    {
      "cell_type": "code",
      "metadata": {
        "id": "6oJ_L8bPg-Qd"
      },
      "source": [
        ""
      ],
      "execution_count": null,
      "outputs": []
    }
  ]
}